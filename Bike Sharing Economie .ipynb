{
 "cells": [
  {
   "cell_type": "markdown",
   "id": "3bb8800f",
   "metadata": {},
   "source": [
    "# BINA Case Studiy - FS22\n",
    "\n",
    "## Bike Sharing Economie als zukunftssicherer Markt in der Stadt von Morgen\n",
    "\n",
    "Um in Zukunft die Co2 Bilanz der Metropolen gegen Null zu reduzieren, wird auf das Zwei-rad gesetzt und laufend in der Erweiterung der Infrastruktur mit eingeplant. So gehört die Mobilität der Zukunft innerhalb der Städte dem Fahrrad. Die Verwendung von Fahrrädern als Mittel zum Pendeln, insbesondere für kurze Strecken, ist keine neue Idee. In den letz-ten Jahren hat das Fahrradfahren im Hinblick auf die Gesundheit im Besonderen während der Corona-Zeit sowie dem Bewusstsein des Klimawandels an Bedeutung gewonnen. An-statt ein Fahrrad zu kaufen und zu unterhalten, leihen immer mehr Bürger Fahrräder aus, damit sie es bei Bedarf dort nutzen können, wo sie es gerade benötigen. Aus diesem Grund bekommt der Sharing Economy Markt immer einen grösseren Stellenwert. So schaffen diese beiden Trends einen grossen Markt, der gesättigt werden soll. Aus diesem Grund möchten wir einen Datensatz von Leihfahrrädern in einer Europäi-schen/amerikanischen Stadt analysieren und Prognosen zur Nutzung darstellen.\n",
    "\n",
    "### Studierende\n",
    "- Yannik Wiederkehr\n",
    "- Nicolas Feuchter\n",
    "- Christian Heusser\n",
    "- Stefan Ilic\n",
    "\n",
    "### Fragestellungen\n",
    "- Welches Nutzungsmuster kann aus dem Datensatz der ausgeliehenen Fahrräder in den Jahren X bis Y bestimmt werden.\n",
    "- Hat das Wetter (Temperatur, Windgeschwindigkeit, Regen, etc.) einen Einfluss auf die Nutzung des Fahrrad-Leihsystems\n",
    "- Ist es möglich ein stündliches Ausleihungsmodell zu bestimmen\n",
    "- An welchen Wochentagen ist die Nachfrage besonders hoch\n",
    "- Zu welchen Jahreszeiten wird das Ausleihsystem besonders genutzt\n",
    "- Vorgehensmodell bestimmen beispielsweise Lineare Regression, Zeitreihenanaly-se, Regression Trees und Random Forest\n",
    "\n",
    "### Dataset\n",
    "**Dataset name:** London bike sharing dataset\n",
    "**Source:** Kaggle [London bike sharing dataset](https://www.kaggle.com/hmavrodiev/london-bike-sharing-dataset)\n",
    "\n",
    "#### Features\n",
    "\n",
    "- timestamp - timestamp field for grouping the data\n",
    "- cnt - the count of a new bike shares\n",
    "- t1 - real temperature in C\n",
    "- t2 - temperature in C “feels like”\n",
    "- hum - humidity in percentage\n",
    "- wind_speed - wind speed in km/h\n",
    "- weather_code - category of the weather\n",
    "- is_holiday - boolean field - 1 holiday / 0 non holiday\n",
    "- is_weekend - boolean field - 1 if the day is weekend\n",
    "- season - category field meteorological seasons: 0-spring ; 1-summer; 2-fall; 3-winter.\n",
    "\n",
    "**weather_code\" category description:**\n",
    "\n",
    "- 1 = Clear ; mostly clear but have some values with haze/fog/patches of fog/ fog in vicinity\n",
    "- 2 = scattered clouds / few clouds\n",
    "- 3 = Broken clouds\n",
    "- 4 = Cloudy\n",
    "- 7 = Rain/ light Rain shower/ Light rain\n",
    "- 10 = rain with thunderstorm\n",
    "- 26 = snowfall\n",
    "- 94 = Freezing Fog\n",
    "\n",
    "\n"
   ]
  },
  {
   "cell_type": "code",
   "execution_count": null,
   "id": "c2d535bf",
   "metadata": {},
   "outputs": [],
   "source": []
  },
  {
   "cell_type": "code",
   "execution_count": null,
   "id": "6f5d3407",
   "metadata": {},
   "outputs": [],
   "source": []
  }
 ],
 "metadata": {
  "kernelspec": {
   "display_name": "Python 3 (ipykernel)",
   "language": "python",
   "name": "python3"
  },
  "language_info": {
   "codemirror_mode": {
    "name": "ipython",
    "version": 3
   },
   "file_extension": ".py",
   "mimetype": "text/x-python",
   "name": "python",
   "nbconvert_exporter": "python",
   "pygments_lexer": "ipython3",
   "version": "3.9.7"
  }
 },
 "nbformat": 4,
 "nbformat_minor": 5
}
